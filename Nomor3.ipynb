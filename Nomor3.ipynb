{
 "cells": [
  {
   "cell_type": "code",
   "execution_count": 23,
   "id": "d7bd2bf9",
   "metadata": {},
   "outputs": [],
   "source": [
    "#Code untuk perhitungan regresi linear\n",
    "import math\n",
    "\n",
    "def sum_product(a,b):\n",
    "    reg = 0\n",
    "    for i in range(n):\n",
    "        reg += a[i]*b[i]\n",
    "    return reg\n",
    "def linear_regression(x,y):\n",
    "    yreg = []\n",
    "    for i in x:\n",
    "        yreg.append(((sum(y)*sum_product(x,x)-(sum(x)*sum_product(x,y)))/((n*sum_product(x,x))-(sum(x)*sum(x)))) + (((n*sum_product(x,y))-(sum(x)*sum(y)))/((n*sum_product(x,x))-(sum(x)*sum(x)))) * i)\n",
    "    return yreg"
   ]
  },
  {
   "cell_type": "code",
   "execution_count": 24,
   "id": "55d0cc91",
   "metadata": {},
   "outputs": [],
   "source": [
    "#Code untuk perhitungan interpolasi linear\n",
    "import numpy as np\n",
    "import math\n",
    "\n",
    "def q(j,x1,x,y):\n",
    "    q1 = y[j+1]*(x1-x[j]) / (x[j+1]-x[j])\n",
    "    q2 = y[j]*(x1-x[j+1]) / (x[j]-x[j+1])\n",
    "    qjx = q1+q2\n",
    "    return qjx\n",
    "\n",
    "def p(x1,x,y):\n",
    "    n = min(len(x),len(y))\n",
    "    h = x[1]-x[0]\n",
    "    j = math.floor((x1-x[0])/h)\n",
    "    if j >= n - 1: j = n - 2\n",
    "    px = q(j,x1,x,y)\n",
    "    return px\n",
    "\n",
    "def linear_interpol(x1, x, y):\n",
    "    y = [p(i,x,y) for i in x1]\n",
    "    return y"
   ]
  },
  {
   "cell_type": "code",
   "execution_count": 25,
   "id": "dd5fd0df",
   "metadata": {},
   "outputs": [],
   "source": [
    "#Code untuk perhitungan interpolasi polinomial Lagrange\n",
    "import math\n",
    "\n",
    "def q2(j,x2,x,y):\n",
    "    lagr = 1\n",
    "    for k in range(n):\n",
    "        if k != j:\n",
    "            lagr *= (x2-x[k]) / (x[j] - x[k])\n",
    "    qjx = y[j] * lagr\n",
    "    return qjx\n",
    "\n",
    "def p2(x2, x, y):\n",
    "    px = 0\n",
    "    for j in range(n):\n",
    "        px += (q2(j,x2,x,y))\n",
    "    return px\n",
    "\n",
    "def lagrange_interpol(x2,x,y):\n",
    "    y = [p2(i,x,y) for i in x2]\n",
    "    return y"
   ]
  },
  {
   "cell_type": "code",
   "execution_count": 26,
   "id": "b63e9cf1",
   "metadata": {},
   "outputs": [
    {
     "name": "stdout",
     "output_type": "stream",
     "text": [
      "Masukkan panjang x dan y:5\n",
      "\n",
      "Masukkan elemen x:2\n",
      "Masukkan elemen x:3\n",
      "Masukkan elemen x:4\n",
      "Masukkan elemen x:5\n",
      "Masukkan elemen x:6\n",
      "\n",
      "Masukkan elemen y:1\n",
      "Masukkan elemen y:2\n",
      "Masukkan elemen y:3\n",
      "Masukkan elemen y:4\n",
      "Masukkan elemen y:5\n",
      "[2, 3, 4, 5, 6]\n",
      "[1, 2, 3, 4, 5]\n"
     ]
    },
    {
     "data": {
      "image/png": "[encoded data removed]",
      "text/plain": [
       "<Figure size 432x288 with 1 Axes>"
      ]
     },
     "metadata": {
      "needs_background": "light"
     },
     "output_type": "display_data"
    }
   ],
   "source": [
    "import numpy as np\n",
    "import matplotlib.pyplot as plt\n",
    "x = []\n",
    "y = []\n",
    "\n",
    "n = int(input('Masukkan panjang x dan y:'))\n",
    "print()\n",
    "\n",
    "for i in range (0,n):\n",
    "    inp = int(input('Masukkan elemen x:'))\n",
    "    x.append(inp)\n",
    "print()\n",
    "for j in range (0,n):\n",
    "    inp2 = int(input('Masukkan elemen y:'))\n",
    "    y.append(inp2)\n",
    "\n",
    "print(x)\n",
    "print(y)\n",
    "\n",
    "x1 = np.linspace(min(x), max(x), 100).tolist()\n",
    "x2 = np.linspace(min(x), max(x), 100).tolist()\n",
    "\n",
    "y1 = linear_regression(x,y)\n",
    "y2 = linear_interpol(x1,x,y)\n",
    "y3 = lagrange_interpol(x2,x,y)\n",
    "\n",
    "\n",
    "plt.grid()\n",
    "plt.xlabel('x')\n",
    "plt.ylabel('y')\n",
    "plt.plot(x,y,'ko')\n",
    "plt.plot(x,y1,'g')\n",
    "plt.plot(x1,y2,'r--')\n",
    "plt.plot(x2,y3,'b-')\n",
    "plt.legend(['data yang diberikan','regresi linear','interpolasi linear','interpolasi polynomial lagrange'])\n",
    "plt.show()"
   ]
  },
  {
   "cell_type": "code",
   "execution_count": null,
   "id": "7308d3d4",
   "metadata": {},
   "outputs": [],
   "source": []
  }
 ],
 "metadata": {
  "kernelspec": {
   "display_name": "Python 3 (ipykernel)",
   "language": "python",
   "name": "python3"
  },
  "language_info": {
   "codemirror_mode": {
    "name": "ipython",
    "version": 3
   },
   "file_extension": ".py",
   "mimetype": "text/x-python",
   "name": "python",
   "nbconvert_exporter": "python",
   "pygments_lexer": "ipython3",
   "version": "3.9.7"
  }
 },
 "nbformat": 4,
 "nbformat_minor": 5
}
