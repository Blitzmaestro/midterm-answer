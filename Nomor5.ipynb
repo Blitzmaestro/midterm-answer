{
 "cells": [
  {
   "cell_type": "code",
   "execution_count": 9,
   "id": "4ac7388a",
   "metadata": {},
   "outputs": [
    {
     "name": "stdout",
     "output_type": "stream",
     "text": [
      "-----N-left point rule\n",
      "     1 0.0\n",
      "     2 1.5707963267948966\n",
      "     4 1.8961188979370398\n",
      "     8 1.9742316019455508\n",
      "    16 1.993570343772339\n",
      "    32 1.9983933609701447\n",
      "    64 1.9995983886400375\n",
      "   128 1.9998996001842024\n",
      "   256 1.9999749002350524\n",
      "   512 1.9999937250705757\n"
     ]
    }
   ],
   "source": [
    "import math\n",
    "\n",
    "#Fungsi yang akan diintegrasikan\n",
    "def f(x):\n",
    "    fx = math.sin(x)\n",
    "    return fx \n",
    "\n",
    "N = 1\n",
    "a = 0\n",
    "b = math.pi\n",
    "M = 11\n",
    "dx = (b - a) / N\n",
    "\n",
    "T1 = 1\n",
    "# Fungsi integrasi dengan metode Rectangle Left Point\n",
    "\n",
    "def rectangle_left_point(f, a, b, N):\n",
    "    dx = (b - a) / N\n",
    "    x = [a + i*dx for i in range(T1)]\n",
    "    A = 0\n",
    "    for xi in x:\n",
    "        Ai = f(xi) * dx\n",
    "        A += Ai\n",
    "    return A\n",
    "\n",
    "print(\"-----N-left point rule\")\n",
    "for j in range(1, M):\n",
    "    A = rectangle_left_point(f, a, b, T1)\n",
    "    print(f\"{T1:6d}\", A)\n",
    "    T1 *= 2"
   ]
  },
  {
   "cell_type": "code",
   "execution_count": null,
   "id": "8295d596",
   "metadata": {},
   "outputs": [],
   "source": [
    "T2 = 1\n",
    "# Fungsi integrasi dengan metode Rectangle Right Point\n",
    "\n",
    "def rectangle_right_point(f, a, b, N):\n",
    "    dx = (b - a) / N\n",
    "    x = [a + i*dx for i in range(T2)]\n",
    "    B = 0\n",
    "    for xi in x:\n",
    "        Bi = f(xi + dx) * dx\n",
    "        B += Bi\n",
    "    return B\n",
    "\n",
    "print(\"-----N-right point rule\")\n",
    "for j in range(1, M):\n",
    "    B = rectangle_right_point(f, a, b, T2)\n",
    "    print(f\"{T2:6d}\", B)\n",
    "    T2 *= 2"
   ]
  },
  {
   "cell_type": "code",
   "execution_count": null,
   "id": "95d22bcd",
   "metadata": {},
   "outputs": [],
   "source": [
    "T3 = 1\n",
    "# Fungsi integrasi dengan metode Rectangle Mid Point\n",
    "\n",
    "def rectangle_mid_point(f, a, b, N):\n",
    "    dx = (b - a) / N\n",
    "    x = [a + i*dx for i in range(N)]\n",
    "    C = 0\n",
    "    for xi in x:\n",
    "        Ci = f(xi + 0.5*dx) * dx\n",
    "        C += Ci\n",
    "    return C\n",
    "\n",
    "print(\"-----N-mid point rule\")\n",
    "for j in range(1, M):\n",
    "    C = rectangle_mid_point(f, a, b, T3)\n",
    "    print(f\"{T3:6d}\", C)\n",
    "    T3 *= 2"
   ]
  },
  {
   "cell_type": "code",
   "execution_count": null,
   "id": "a319f4c1",
   "metadata": {},
   "outputs": [],
   "source": [
    "T4=1\n",
    "# Fungsi integrasi dengan metode Trapezium\n",
    "\n",
    "def trapezium(f, a, b, N):\n",
    "    dx = (b - a) / N\n",
    "    x = [a + i*dx for i in range(N)]\n",
    "    D = 0\n",
    "    for xi in x:\n",
    "        Di = (f(xi) + f(xi + dx)) * (dx / 2)\n",
    "        D += Di\n",
    "    return D\n",
    "\n",
    "print(\"-----N-Trapezium rule\")\n",
    "for j in range(1, M):\n",
    "    D = trapezium(f, a, b, T4)\n",
    "    print(f\"{T4:6d}\", D)\n",
    "    T4 *= 2"
   ]
  },
  {
   "cell_type": "code",
   "execution_count": null,
   "id": "f9f8e9ed",
   "metadata": {},
   "outputs": [],
   "source": [
    "T5=1\n",
    "# Fungsi integrasi dengan metode Simpson\n",
    "\n",
    "def simpson(f, a, b, N):\n",
    "    dx = (b - a) / N\n",
    "    x = [a + i*dx for i in range(N)]\n",
    "    E = 0\n",
    "    for xi in x:\n",
    "        Ei = (f(xi) + 4*f(xi + 0.5*dx) + f(xi + dx)) * (dx / 6)\n",
    "        E += Ei\n",
    "    return E\n",
    "\n",
    "print(\"-----N-Simpson\")\n",
    "for j in range(1, M):\n",
    "    E = simpson(f, a, b, T5)\n",
    "    print(f\"{T5:6d}\", E)\n",
    "    T5 *= 2"
   ]
  },
  {
   "cell_type": "code",
   "execution_count": 5,
   "id": "933e85f1",
   "metadata": {},
   "outputs": [
    {
     "name": "stdout",
     "output_type": "stream",
     "text": [
      "[[ 1.  0.  0.  0.  0.  0.  0.  0.  0.  0.  0.]\n",
      " [ 1. -2.  1.  0.  0.  0.  0.  0.  0.  0.  0.]\n",
      " [ 0.  1. -2.  1.  0.  0.  0.  0.  0.  0.  0.]\n",
      " [ 0.  0.  1. -2.  1.  0.  0.  0.  0.  0.  0.]\n",
      " [ 0.  0.  0.  1. -2.  1.  0.  0.  0.  0.  0.]\n",
      " [ 0.  0.  0.  0.  1. -2.  1.  0.  0.  0.  0.]\n",
      " [ 0.  0.  0.  0.  0.  1. -2.  1.  0.  0.  0.]\n",
      " [ 0.  0.  0.  0.  0.  0.  1. -2.  1.  0.  0.]\n",
      " [ 0.  0.  0.  0.  0.  0.  0.  1. -2.  1.  0.]\n",
      " [ 0.  0.  0.  0.  0.  0.  0.  0.  1. -2.  1.]\n",
      " [ 0.  0.  0.  0.  0.  0.  0.  0.  0.  0.  1.]]\n",
      "[10.  -2.5 -2.5 -2.5 -2.5 -2.5 -2.5 -2.5 -2.5 -2.5 20. ]\n"
     ]
    },
    {
     "data": {
      "image/png": "[encoded data removed]",
      "text/plain": [
       "<Figure size 720x576 with 1 Axes>"
      ]
     },
     "metadata": {
      "needs_background": "light"
     },
     "output_type": "display_data"
    }
   ],
   "source": [
    "import numpy as np\n",
    "import matplotlib.pyplot as plt\n",
    "%matplotlib inline\n",
    "\n",
    "n = 10\n",
    "h = (5-0)/n\n",
    "\n",
    "# Get A\n",
    "A = np.zeros((n+1, n+1))\n",
    "A[0, 0] = 1\n",
    "A[n, n] = 1\n",
    "for i in range(1, n):\n",
    "    A[i, i-1] = 1\n",
    "    A[i, i] = -2\n",
    "    A[i, i+1] = 1\n",
    "\n",
    "print(A)\n",
    "\n",
    "# Get b\n",
    "b = np.zeros(n+1)\n",
    "b[1:-1] = -10*h**2\n",
    "b[0] = 10\n",
    "b[-1] = 20\n",
    "print(b)\n",
    "\n",
    "# solve the linear equations\n",
    "y = np.linalg.solve(A, b)\n",
    "\n",
    "t = np.linspace(0, 5, 11)\n",
    "\n",
    "plt.figure(figsize=(10,8))\n",
    "plt.plot(t, y)\n",
    "plt.xlabel('time (s)')\n",
    "plt.ylabel('altitude (m)')\n",
    "plt.show()"
   ]
  },
  {
   "cell_type": "code",
   "execution_count": 6,
   "id": "2f566066",
   "metadata": {},
   "outputs": [
    {
     "data": {
      "image/png": "[encoded data removed]",
      "text/plain": [
       "<Figure size 720x576 with 1 Axes>"
      ]
     },
     "metadata": {
      "needs_background": "light"
     },
     "output_type": "display_data"
    }
   ],
   "source": [
    "y_n1 = -10*h**2 + 2*y[0] - y[1]\n",
    "(y[1] - y_n1) / (2*h)\n",
    "\n",
    "def get_a_b(n):\n",
    "    h = (np.pi/2-0) / n\n",
    "    x = np.linspace(0, np.pi/2, n+1)\n",
    "    # Get A\n",
    "    A = np.zeros((n+1, n+1))\n",
    "    A[0, 0] = 1\n",
    "    A[n, n] = -2+4*h**2\n",
    "    A[n, n-1] = 2\n",
    "    for i in range(1, n):\n",
    "        A[i, i-1] = 1\n",
    "        A[i, i] = -2+4*h**2\n",
    "        A[i, i+1] = 1\n",
    "\n",
    "    # Get b\n",
    "    b = np.zeros(n+1)\n",
    "    for i in range(1, n+1):\n",
    "        b[i] = 4*h**2*x[i]\n",
    "    \n",
    "    return x, A, b\n",
    "\n",
    "x = np.pi/2\n",
    "v = x - np.sin(2*x)\n",
    "\n",
    "n_s = []\n",
    "errors = []\n",
    "\n",
    "for n in range(3, 100, 5):\n",
    "    x, A, b = get_a_b(n)\n",
    "    y = np.linalg.solve(A, b)\n",
    "    n_s.append(n)\n",
    "    e = v - y[-1]\n",
    "    errors.append(e)\n",
    "    \n",
    "plt.figure(figsize = (10,8))\n",
    "plt.plot(n_s, errors)\n",
    "plt.yscale('log')\n",
    "plt.xlabel('n grid points')\n",
    "plt.ylabel('errors at x = $\\pi/2$')\n",
    "plt.show()"
   ]
  },
  {
   "cell_type": "markdown",
   "id": "765c06a2",
   "metadata": {},
   "source": [
    "Semakin banyak grid yang diberikan, maka error pada x=phi/2 akan semakin kecil."
   ]
  },
  {
   "cell_type": "code",
   "execution_count": null,
   "id": "b2d07084",
   "metadata": {},
   "outputs": [],
   "source": []
  }
 ],
 "metadata": {
  "kernelspec": {
   "display_name": "Python 3 (ipykernel)",
   "language": "python",
   "name": "python3"
  },
  "language_info": {
   "codemirror_mode": {
    "name": "ipython",
    "version": 3
   },
   "file_extension": ".py",
   "mimetype": "text/x-python",
   "name": "python",
   "nbconvert_exporter": "python",
   "pygments_lexer": "ipython3",
   "version": "3.9.7"
  }
 },
 "nbformat": 4,
 "nbformat_minor": 5
}
