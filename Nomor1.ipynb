{
 "cells": [
  {
   "cell_type": "code",
   "execution_count": 2,
   "id": "8c59718d",
   "metadata": {},
   "outputs": [
    {
     "name": "stdout",
     "output_type": "stream",
     "text": [
      "data X ke-x yang ingin dilihat dari : \n",
      "5\n",
      "data ke- 5 :\n",
      "3\n",
      "jumlah angka yang terdapat pada data ini: 20\n",
      "\n"
     ]
    }
   ],
   "source": [
    "import math\n",
    "\n",
    "X = [4,7,5,1,3,6,4,8,5,7,2,5,6,3,9,6,8,5,7,4]\n",
    "\n",
    "print('data X ke-x yang ingin dilihat dari : ')\n",
    "str = input()\n",
    "x =int(str)\n",
    "print('data ke-',x,':')\n",
    "print(X[x-1])\n",
    "\n",
    "print('jumlah angka yang terdapat pada data ini:', len(X))\n",
    "print()\n",
    "\n",
    "\n"
   ]
  },
  {
   "cell_type": "code",
   "execution_count": 3,
   "id": "4aa3c8cd",
   "metadata": {},
   "outputs": [
    {
     "name": "stdout",
     "output_type": "stream",
     "text": [
      "Data pada X yang sudah diurutkan dari terkecil sampai terbesar:\n",
      "[1, 2, 3, 3, 4, 4, 4, 5, 5, 5, 5, 6, 6, 6, 7, 7, 7, 8, 8, 9]\n",
      "\n",
      "rata-rata dari data X: 5.25\n",
      "Median dari data X: 5.0\n",
      "Modus dari data X: 5\n",
      "\n"
     ]
    }
   ],
   "source": [
    "from statistics import mode\n",
    "\n",
    "Xsorted = (sorted(X))\n",
    "xmean = sum(X)/len(X)\n",
    "\n",
    "print('Data pada X yang sudah diurutkan dari terkecil sampai terbesar:')\n",
    "print(Xsorted)\n",
    "print()\n",
    "print('rata-rata dari data X:',xmean)\n",
    "\n",
    "x11 = int(len(Xsorted)/2)+1 \n",
    "x10 = int((len(Xsorted)/2))\n",
    "xmed = ((Xsorted[x10-1]+Xsorted[x11-1])/2)\n",
    "print('Median dari data X:', xmed)\n",
    "print('Modus dari data X:',mode(X))\n",
    "print()"
   ]
  },
  {
   "cell_type": "code",
   "execution_count": 4,
   "id": "180b2074",
   "metadata": {},
   "outputs": [
    {
     "name": "stdout",
     "output_type": "stream",
     "text": [
      "Nilai minimum data X: 1\n",
      "Nilai maksimum data X: 9\n",
      "Range dari data X: 8\n",
      "\n"
     ]
    }
   ],
   "source": [
    "xmin = Xsorted[0]\n",
    "xmax = Xsorted[len(Xsorted)-1]\n",
    "print('Nilai minimum data X:', xmin)\n",
    "print('Nilai maksimum data X:',xmax)\n",
    "xrange = xmax - xmin\n",
    "print ('Range dari data X:', xrange)\n",
    "print()"
   ]
  },
  {
   "cell_type": "code",
   "execution_count": 5,
   "id": "04fdcab8",
   "metadata": {},
   "outputs": [
    {
     "name": "stdout",
     "output_type": "stream",
     "text": [
      "standar deviasi X adalah: 2.0994986870303363\n",
      "variansi X adalah: 4.407894736842106\n"
     ]
    }
   ],
   "source": [
    "data = []\n",
    "for x in X:\n",
    "    data.append((x-xmean)**2)\n",
    "\n",
    "stdev = math.sqrt(sum(data)/(len(X)-1))\n",
    "print('standar deviasi X adalah:', stdev)\n",
    "\n",
    "variance = stdev ** 2\n",
    "print('variansi X adalah:', variance)"
   ]
  }
 ],
 "metadata": {
  "kernelspec": {
   "display_name": "Python 3 (ipykernel)",
   "language": "python",
   "name": "python3"
  },
  "language_info": {
   "codemirror_mode": {
    "name": "ipython",
    "version": 3
   },
   "file_extension": ".py",
   "mimetype": "text/x-python",
   "name": "python",
   "nbconvert_exporter": "python",
   "pygments_lexer": "ipython3",
   "version": "3.9.7"
  }
 },
 "nbformat": 4,
 "nbformat_minor": 5
}
